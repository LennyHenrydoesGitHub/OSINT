{
  "nbformat": 4,
  "nbformat_minor": 0,
  "metadata": {
    "colab": {
      "provenance": [],
      "authorship_tag": "ABX9TyM0TS6drzvciy64qgezz2UM",
      "include_colab_link": true
    },
    "kernelspec": {
      "name": "python3",
      "display_name": "Python 3"
    },
    "language_info": {
      "name": "python"
    }
  },
  "cells": [
    {
      "cell_type": "markdown",
      "metadata": {
        "id": "view-in-github",
        "colab_type": "text"
      },
      "source": [
        "<a href=\"https://colab.research.google.com/github/LennyHenrydoesGitHub/OSINT/blob/main/model/data_processing.ipynb\" target=\"_parent\"><img src=\"https://colab.research.google.com/assets/colab-badge.svg\" alt=\"Open In Colab\"/></a>"
      ]
    },
    {
      "cell_type": "markdown",
      "source": [
        "###Packages"
      ],
      "metadata": {
        "id": "4jp1NgiGdYgt"
      }
    },
    {
      "cell_type": "code",
      "source": [
        "import numpy as np\n",
        "from sklearn.preprocessing import OneHotEncoder, StandardScaler\n",
        "import torch\n",
        "import torch.nn as nn\n",
        "from google.colab import files, drive\n",
        "import pandas as pd\n",
        "import random\n",
        "import matplotlib.pyplot as plt\n",
        "from collections import Counter\n",
        "from sklearn.metrics import confusion_matrix, ConfusionMatrixDisplay\n",
        "drive.mount('/content/drive')"
      ],
      "metadata": {
        "colab": {
          "base_uri": "https://localhost:8080/"
        },
        "id": "3tqS3sKsdSH9",
        "outputId": "2a347c11-6aca-4d66-ec41-7bb204dac627"
      },
      "execution_count": 1,
      "outputs": [
        {
          "output_type": "stream",
          "name": "stdout",
          "text": [
            "Mounted at /content/drive\n"
          ]
        }
      ]
    },
    {
      "cell_type": "markdown",
      "source": [
        "### Dictionary for conflicts details"
      ],
      "metadata": {
        "id": "mGqser_OdX3f"
      }
    },
    {
      "cell_type": "code",
      "execution_count": 2,
      "metadata": {
        "id": "B5dCLG9NdOjt"
      },
      "outputs": [],
      "source": [
        "df_conflicts = pd.read_csv('/content/drive/My Drive/Data_sci/icb1v15.csv')\n",
        "df_actors = pd.read_csv('/content/drive/My Drive/Data_sci/icb2v15.csv')\n",
        "\n",
        "crisis_details = {}\n",
        "\n",
        "for index, row in df_conflicts.iterrows():\n",
        "    crisis_number = row['crisno']  # Crisis number\n",
        "    crisis_name = row['crisname']  # Crisis name\n",
        "    start_year = row['yrtrig']  # Start year\n",
        "    end_year = row['yrterm']  # End year\n",
        "\n",
        "    crisis_details[crisis_number] = {'crisis_name': crisis_name,\n",
        "                                      'start_year': start_year,\n",
        "                                      'end_year': end_year,\n",
        "                                      'actors': set()}\n",
        "\n",
        "for index, row in df_actors.iterrows():\n",
        "    crisis_number = row['crisno']  # Crisis number\n",
        "    actor = row['actor']  # Actor\n",
        "\n",
        "    if crisis_number in crisis_details:\n",
        "        crisis_details[crisis_number]['actors'].add(actor)"
      ]
    },
    {
      "cell_type": "markdown",
      "source": [
        "### Make matrix for conflicts (i) and actors (j), for if a conflict has been started"
      ],
      "metadata": {
        "id": "1_92qEBNeFIH"
      }
    },
    {
      "cell_type": "code",
      "source": [
        "actors = set()\n",
        "for _, details in crisis_details.items():\n",
        "    actors.update(details['actors'])\n",
        "\n",
        "matrix_data = []\n",
        "for _, details in crisis_details.items():\n",
        "    crisis_year = details['start_year']\n",
        "    crisis_actors = details['actors']\n",
        "    row_data = {'Year': crisis_year}\n",
        "    for actor in actors:\n",
        "        row_data[actor] = 1 if actor in crisis_actors else 0\n",
        "    matrix_data.append(row_data)\n",
        "\n",
        "actor_crisis_matrix = pd.DataFrame(matrix_data)\n",
        "\n",
        "columns = actor_crisis_matrix.columns.tolist()\n",
        "columns.remove('Year')\n",
        "columns = ['Year'] + columns\n",
        "\n",
        "actor_crisis_matrix = actor_crisis_matrix[columns]\n",
        "actor_crisis_matrix = actor_crisis_matrix[actor_crisis_matrix['Year'] >= 1950]\n"
      ],
      "metadata": {
        "id": "NcenPbfGeEbn"
      },
      "execution_count": 4,
      "outputs": []
    },
    {
      "cell_type": "markdown",
      "source": [
        "### Processing arms trade data"
      ],
      "metadata": {
        "id": "bBHXIyAMeWy7"
      }
    },
    {
      "cell_type": "code",
      "source": [
        "df = pd.read_csv('/content/drive/My Drive/Data_sci/all_alphabetical_by_recipient.csv')\n",
        "country_codes = pd.read_csv('/content/drive/My Drive/Data_sci/country_codes_15-04.csv')\n",
        "\n",
        "name_to_code = dict(zip(country_codes['country names'], country_codes['country codes']))\n",
        "df['Recipient'] = df['Recipient'].map(name_to_code)\n"
      ],
      "metadata": {
        "id": "N8RB7GPMeTvh"
      },
      "execution_count": 21,
      "outputs": []
    },
    {
      "cell_type": "markdown",
      "source": [
        "### Save needed data"
      ],
      "metadata": {
        "id": "KQS9MqPVkPO1"
      }
    },
    {
      "cell_type": "code",
      "source": [
        "np.save('/content/drive/My Drive/Data_sci/df.npy',df)\n",
        "np.save('/content/drive/My Drive/Data_sci/matrix.npy',actor_crisis_matrix)"
      ],
      "metadata": {
        "id": "ZwP1ST2zkOGx"
      },
      "execution_count": 22,
      "outputs": []
    }
  ]
}