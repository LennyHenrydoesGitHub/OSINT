{
  "nbformat": 4,
  "nbformat_minor": 0,
  "metadata": {
    "colab": {
      "provenance": [],
      "authorship_tag": "ABX9TyOk+K0ycSC2xhVHjBzl1sGQ",
      "include_colab_link": true
    },
    "kernelspec": {
      "name": "python3",
      "display_name": "Python 3"
    },
    "language_info": {
      "name": "python"
    }
  },
  "cells": [
    {
      "cell_type": "markdown",
      "metadata": {
        "id": "view-in-github",
        "colab_type": "text"
      },
      "source": [
        "<a href=\"https://colab.research.google.com/github/LennyHenrydoesGitHub/OSINT/blob/main/model_1.ipynb\" target=\"_parent\"><img src=\"https://colab.research.google.com/assets/colab-badge.svg\" alt=\"Open In Colab\"/></a>"
      ]
    },
    {
      "cell_type": "code",
      "source": [
        "import numpy as np\n",
        "from sklearn.preprocessing import OneHotEncoder, StandardScaler\n",
        "import torch\n",
        "import torch.nn as nn\n",
        "from google.colab import files, drive\n",
        "import pandas as pd\n",
        "drive.mount('/content/drive')"
      ],
      "metadata": {
        "colab": {
          "base_uri": "https://localhost:8080/"
        },
        "id": "wGDO3rSDSvXP",
        "outputId": "a1e39f8c-1586-4c23-a24a-38a3943edb19"
      },
      "execution_count": 1,
      "outputs": [
        {
          "output_type": "stream",
          "name": "stdout",
          "text": [
            "Mounted at /content/drive\n"
          ]
        }
      ]
    },
    {
      "cell_type": "markdown",
      "source": [
        "### Make dictionary for details about conflicts"
      ],
      "metadata": {
        "id": "_ndVjQYXbaz1"
      }
    },
    {
      "cell_type": "code",
      "source": [
        "df_conflicts = pd.read_csv('/content/drive/My Drive/Data_sci/icb1v15.csv')\n",
        "df_actors = pd.read_csv('/content/drive/My Drive/Data_sci/icb2v15.csv')\n",
        "country_codes = pd.read_csv('/content/drive/My Drive/Data_sci/country codes 2.csv')\n",
        "\n",
        "crisis_details = {}\n",
        "\n",
        "for index, row in df_conflicts.iterrows():\n",
        "    crisis_number = row['crisno']  # Crisis number\n",
        "    crisis_name = row['crisname']  # Crisis name\n",
        "    start_year = row['yrtrig']  # Start year\n",
        "    end_year = row['yrterm']  # End year\n",
        "\n",
        "    crisis_details[crisis_number] = {'crisis_name': crisis_name,\n",
        "                                      'start_year': start_year,\n",
        "                                      'end_year': end_year,\n",
        "                                      'actors': set()}\n",
        "\n",
        "for index, row in df_actors.iterrows():\n",
        "    crisis_number = row['crisno']  # Crisis number\n",
        "    r = row['actor']\n",
        "    idx = np.where(country_codes == row['actor'])[0] # Actor\n",
        "    actor = country_codes.iloc[idx[0],0]\n",
        "\n",
        "    if crisis_number in crisis_details:\n",
        "        crisis_details[crisis_number]['actors'].add(actor)\n",
        "\n",
        "print(crisis_details[27])"
      ],
      "metadata": {
        "colab": {
          "base_uri": "https://localhost:8080/"
        },
        "id": "H_aRFImRUzrk",
        "outputId": "242710d8-5209-4355-dff7-a8ba8b735906"
      },
      "execution_count": 51,
      "outputs": [
        {
          "output_type": "stream",
          "name": "stdout",
          "text": [
            "{'crisis_name': 'RUHR I', 'start_year': 1923, 'end_year': 1923.0, 'actors': {'Poland', 'Germany (Prussia)', 'Netherlands'}}\n"
          ]
        }
      ]
    },
    {
      "cell_type": "code",
      "source": [
        "\n",
        "idx = np.where(country_codes == 'AAB')[0]\n",
        "a = country_codes.iloc[idx[0],0]\n"
      ],
      "metadata": {
        "id": "-si5e4rBelNB"
      },
      "execution_count": 45,
      "outputs": []
    },
    {
      "cell_type": "markdown",
      "source": [
        "### Make matrix for years (i) and actors (j), for if a conflict has been started"
      ],
      "metadata": {
        "id": "trkjG0Tube8K"
      }
    },
    {
      "cell_type": "code",
      "source": [
        "actors = set()\n",
        "for _, details in crisis_details.items():\n",
        "    actors.update(details['actors'])\n",
        "\n",
        "matrix_data = []\n",
        "for _, details in crisis_details.items():\n",
        "    crisis_year = details['start_year']\n",
        "    crisis_actors = details['actors']\n",
        "    row_data = {'Year': crisis_year}\n",
        "    for actor in actors:\n",
        "        row_data[actor] = 1 if actor in crisis_actors else 0\n",
        "    matrix_data.append(row_data)\n",
        "\n",
        "actor_crisis_matrix = pd.DataFrame(matrix_data)\n",
        "\n",
        "columns = actor_crisis_matrix.columns.tolist()\n",
        "columns.remove('Year')\n",
        "columns = ['Year'] + columns\n",
        "\n",
        "actor_crisis_matrix = actor_crisis_matrix[columns] # Row per conflict\n",
        "combined_actor_crisis_matrix = actor_crisis_matrix.groupby('Year').sum().reset_index() # Row per year\n",
        "\n",
        "print(combined_actor_crisis_matrix.head())"
      ],
      "metadata": {
        "id": "EjGxNeYIbYOu",
        "colab": {
          "base_uri": "https://localhost:8080/"
        },
        "outputId": "5677650c-b75f-45c0-86ca-b02b36c58628"
      },
      "execution_count": 3,
      "outputs": [
        {
          "output_type": "stream",
          "name": "stdout",
          "text": [
            "   Year  IND  AZE  SEN  CAN  HIJ  HUN  IRQ  TUN  SLV  ...  DRV  TAZ  NTH  ZIM  \\\n",
            "0  1918    0    0    0    0    0    0    0    0    0  ...    0    0    0    0   \n",
            "1  1919    0    0    0    0    0    1    0    0    0  ...    0    0    0    0   \n",
            "2  1920    0    0    0    0    0    0    0    0    0  ...    0    0    0    0   \n",
            "3  1921    0    0    0    0    0    2    0    0    0  ...    0    0    1    0   \n",
            "4  1922    0    0    0    0    0    0    0    0    0  ...    0    0    0    0   \n",
            "\n",
            "   BAH  DEN  TOG  CAM  LIT  VFR  \n",
            "0    0    0    0    0    1    0  \n",
            "1    0    0    0    0    0    0  \n",
            "2    0    0    0    0    1    0  \n",
            "3    0    0    0    0    0    0  \n",
            "4    0    0    0    0    0    0  \n",
            "\n",
            "[5 rows x 146 columns]\n"
          ]
        }
      ]
    },
    {
      "cell_type": "markdown",
      "source": [
        "### Prepare input data for RNN"
      ],
      "metadata": {
        "id": "YSnsBiA4b3Gl"
      }
    },
    {
      "cell_type": "code",
      "source": [
        "\n",
        "df = pd.read_csv('/content/drive/My Drive/Data_sci/all_alphabetical_by_recipient.csv')\n",
        "\n",
        "# Perform one-hot encoding for categorical variables\n",
        "categorical_cols = ['Recipient', 'Supplier', 'Weapon designation']\n",
        "encoder = OneHotEncoder(handle_unknown='ignore')\n",
        "encoded_data = encoder.fit_transform(df[categorical_cols])\n",
        "\n",
        "# Normalize numeric variables\n",
        "numeric_cols = ['Year of order', 'Number ordered', 'SIPRI TIV per unit', 'SIPRI TIV for total order', 'SIPRI TIV of delivered weapons']\n",
        "scaler = StandardScaler()\n",
        "scaled_data = scaler.fit_transform(df[numeric_cols])\n",
        "\n",
        "# Concatenate encoded categorical data and scaled numeric data\n",
        "input_data = np.concatenate((encoded_data.toarray(), scaled_data), axis=1)\n",
        "\n",
        "# Define sequence length\n",
        "sequence_length = 5\n",
        "\n",
        "# Create input sequences\n",
        "sequences = []\n",
        "targets = []\n",
        "\n",
        "for i in range(len(input_data) - sequence_length):\n",
        "    sequence = input_data[i:i+sequence_length]\n",
        "    target = 1 # Did a conflict occur this year (1 or 0)\n",
        "    sequences.append(sequence)\n",
        "    targets.append(target)\n",
        "\n",
        "X = torch.tensor(sequences, dtype=torch.float32)\n",
        "y = torch.tensor(targets, dtype=torch.float32)\n"
      ],
      "metadata": {
        "id": "2TXVjQQWRkXD",
        "colab": {
          "base_uri": "https://localhost:8080/"
        },
        "outputId": "28ec552a-2015-4665-f4c6-ce9c35fa9bb5"
      },
      "execution_count": 4,
      "outputs": [
        {
          "output_type": "stream",
          "name": "stderr",
          "text": [
            "<ipython-input-4-e0cfc2c71c16>:29: UserWarning: Creating a tensor from a list of numpy.ndarrays is extremely slow. Please consider converting the list to a single numpy.ndarray with numpy.array() before converting to a tensor. (Triggered internally at ../torch/csrc/utils/tensor_new.cpp:275.)\n",
            "  X = torch.tensor(sequences, dtype=torch.float32)\n"
          ]
        }
      ]
    },
    {
      "cell_type": "code",
      "source": [
        "print(X.shape)\n",
        "print(y.shape)"
      ],
      "metadata": {
        "colab": {
          "base_uri": "https://localhost:8080/"
        },
        "id": "UyJHKMJMbZU0",
        "outputId": "6d2289b2-a2ce-4db9-88e3-4d4e1242cb56"
      },
      "execution_count": 7,
      "outputs": [
        {
          "output_type": "stream",
          "name": "stdout",
          "text": [
            "torch.Size([29053, 5, 4481])\n",
            "torch.Size([29053])\n"
          ]
        }
      ]
    },
    {
      "cell_type": "markdown",
      "source": [
        "### Define the RNN"
      ],
      "metadata": {
        "id": "JxBcZCtgcBXC"
      }
    },
    {
      "cell_type": "code",
      "execution_count": null,
      "metadata": {
        "id": "gkJnQpvBQvbu"
      },
      "outputs": [],
      "source": [
        "class RNNModel(nn.Module):\n",
        "    def __init__(self, input_size, hidden_size, output_size, num_layers=1):\n",
        "        super(RNNModel, self).__init__()\n",
        "        self.hidden_size = hidden_size\n",
        "        self.num_layers = num_layers\n",
        "        self.rnn = nn.RNN(input_size, hidden_size, num_layers, batch_first=True)\n",
        "        self.fc = nn.Linear(hidden_size, output_size)\n",
        "        self.sigmoid = nn.Sigmoid()\n",
        "\n",
        "    def forward(self, x):\n",
        "        h0 = torch.zeros(self.num_layers, x.size(0), self.hidden_size).to(x.device)\n",
        "        out, _ = self.rnn(x, h0)\n",
        "        out = self.fc(out[:, -1, :])\n",
        "        out = self.sigmoid(out)\n",
        "        return out\n",
        "\n",
        "input_size = X.shape[2]\n",
        "output_size = 1\n",
        "hidden_size = 64\n",
        "num_layers = 1\n",
        "\n",
        "model = RNNModel(input_size, hidden_size, output_size, num_layers)\n",
        "\n",
        "criterion = nn.BCELoss()\n",
        "optimizer = torch.optim.Adam(model.parameters(), lr=0.001)\n"
      ]
    },
    {
      "cell_type": "markdown",
      "source": [
        "### Training"
      ],
      "metadata": {
        "id": "F9-S4hygcErj"
      }
    },
    {
      "cell_type": "code",
      "source": [
        "num_epochs = 10\n",
        "for epoch in range(num_epochs):\n",
        "\n",
        "    outputs = model(X)\n",
        "    loss = criterion(outputs.squeeze(), y)\n",
        "\n",
        "    optimizer.zero_grad()\n",
        "    loss.backward()\n",
        "    optimizer.step()\n",
        "\n",
        "    print(f'Epoch [{epoch+1}/{num_epochs}], Loss: {loss.item():.4f}')"
      ],
      "metadata": {
        "id": "i5d_pcVJTxLy"
      },
      "execution_count": null,
      "outputs": []
    }
  ]
}