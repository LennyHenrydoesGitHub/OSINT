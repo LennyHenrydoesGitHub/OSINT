{
  "nbformat": 4,
  "nbformat_minor": 0,
  "metadata": {
    "colab": {
      "provenance": [],
      "authorship_tag": "ABX9TyOKCR8ONgUr4H4YvYIQxKeN",
      "include_colab_link": true
    },
    "kernelspec": {
      "name": "python3",
      "display_name": "Python 3"
    },
    "language_info": {
      "name": "python"
    }
  },
  "cells": [
    {
      "cell_type": "markdown",
      "metadata": {
        "id": "view-in-github",
        "colab_type": "text"
      },
      "source": [
        "<a href=\"https://colab.research.google.com/github/LennyHenrydoesGitHub/OSINT/blob/main/model_1.ipynb\" target=\"_parent\"><img src=\"https://colab.research.google.com/assets/colab-badge.svg\" alt=\"Open In Colab\"/></a>"
      ]
    },
    {
      "cell_type": "code",
      "source": [
        "import numpy as np\n",
        "from sklearn.preprocessing import OneHotEncoder, StandardScaler\n",
        "import torch\n",
        "import torch.nn as nn\n",
        "from google.colab import files, drive\n",
        "import pandas as pd\n",
        "import random\n",
        "drive.mount('/content/drive')"
      ],
      "metadata": {
        "colab": {
          "base_uri": "https://localhost:8080/"
        },
        "id": "wGDO3rSDSvXP",
        "outputId": "a3324e72-8328-4a54-cdc1-f49bb0db34a6"
      },
      "execution_count": 1,
      "outputs": [
        {
          "output_type": "stream",
          "name": "stdout",
          "text": [
            "Mounted at /content/drive\n"
          ]
        }
      ]
    },
    {
      "cell_type": "markdown",
      "source": [
        "### Make dictionary for details about conflicts"
      ],
      "metadata": {
        "id": "_ndVjQYXbaz1"
      }
    },
    {
      "cell_type": "code",
      "source": [
        "df_conflicts = pd.read_csv('/content/drive/My Drive/Data_sci/icb1v15.csv')\n",
        "df_actors = pd.read_csv('/content/drive/My Drive/Data_sci/icb2v15.csv')\n",
        "country_codes = pd.read_csv('/content/drive/My Drive/Data_sci/country codes 2.csv')\n",
        "\n",
        "crisis_details = {}\n",
        "\n",
        "for index, row in df_conflicts.iterrows():\n",
        "    crisis_number = row['crisno']  # Crisis number\n",
        "    crisis_name = row['crisname']  # Crisis name\n",
        "    start_year = row['yrtrig']  # Start year\n",
        "    end_year = row['yrterm']  # End year\n",
        "\n",
        "    crisis_details[crisis_number] = {'crisis_name': crisis_name,\n",
        "                                      'start_year': start_year,\n",
        "                                      'end_year': end_year,\n",
        "                                      'actors': set()}\n",
        "\n",
        "for index, row in df_actors.iterrows():\n",
        "    crisis_number = row['crisno']  # Crisis number\n",
        "    r = row['actor']\n",
        "    idx = np.where(country_codes == row['actor'])[0] # Actor\n",
        "    actor = country_codes.iloc[idx[0],0]\n",
        "\n",
        "    if crisis_number in crisis_details:\n",
        "        crisis_details[crisis_number]['actors'].add(actor)\n",
        "\n",
        "print(crisis_details[87])"
      ],
      "metadata": {
        "colab": {
          "base_uri": "https://localhost:8080/"
        },
        "id": "H_aRFImRUzrk",
        "outputId": "9da03b01-a89e-4801-f1fa-0f1192746762"
      },
      "execution_count": 2,
      "outputs": [
        {
          "output_type": "stream",
          "name": "stdout",
          "text": [
            "{'crisis_name': 'OCCUPATION OF IRAN', 'start_year': 1941, 'end_year': 1942.0, 'actors': {'Iran'}}\n"
          ]
        }
      ]
    },
    {
      "cell_type": "markdown",
      "source": [
        "### Make matrix for conflicts (i) and actors (j), for if a conflict has been started"
      ],
      "metadata": {
        "id": "trkjG0Tube8K"
      }
    },
    {
      "cell_type": "code",
      "source": [
        "actors = set()\n",
        "for _, details in crisis_details.items():\n",
        "    actors.update(details['actors'])\n",
        "\n",
        "matrix_data = []\n",
        "for _, details in crisis_details.items():\n",
        "    crisis_year = details['start_year']\n",
        "    crisis_actors = details['actors']\n",
        "    row_data = {'Year': crisis_year}\n",
        "    for actor in actors:\n",
        "        row_data[actor] = 1 if actor in crisis_actors else 0\n",
        "    matrix_data.append(row_data)\n",
        "\n",
        "actor_crisis_matrix = pd.DataFrame(matrix_data)\n",
        "\n",
        "columns = actor_crisis_matrix.columns.tolist()\n",
        "columns.remove('Year')\n",
        "columns = ['Year'] + columns\n",
        "\n",
        "actor_crisis_matrix = actor_crisis_matrix[columns] # Row per conflict\n",
        "combined_actor_crisis_matrix = actor_crisis_matrix.groupby('Year').sum().reset_index() # Row per year\n",
        "actor_crisis_matrix = actor_crisis_matrix[actor_crisis_matrix['Year'] >= 1950]\n",
        "\n",
        "print(actor_crisis_matrix.head())"
      ],
      "metadata": {
        "id": "EjGxNeYIbYOu",
        "colab": {
          "base_uri": "https://localhost:8080/"
        },
        "outputId": "4cb8f793-9f40-4313-d2c4-35362980e9ad"
      },
      "execution_count": 109,
      "outputs": [
        {
          "output_type": "stream",
          "name": "stdout",
          "text": [
            "     Year  Peru  Australia  Benin  Paraguay  Papua New Guinea  Cameroon  \\\n",
            "131  1950     0          0      0         0                 0         0   \n",
            "132  1950     0          0      0         0                 0         0   \n",
            "133  1951     0          0      0         0                 0         0   \n",
            "134  1951     0          0      0         0                 0         0   \n",
            "135  1951     0          0      0         0                 0         0   \n",
            "\n",
            "     South Vietnam  Nigeria  Turkey  ...  Algeria  Malawi  Serbia  Bangladesh  \\\n",
            "131              0        0       0  ...        0       0       0           0   \n",
            "132              0        0       0  ...        0       0       0           0   \n",
            "133              0        0       0  ...        0       0       0           0   \n",
            "134              0        0       0  ...        0       0       0           0   \n",
            "135              0        0       0  ...        0       0       0           0   \n",
            "\n",
            "     Nicaragua  Jordan  Ethiopia  Djibouti  Guinea  India  \n",
            "131          0       0         0         0       0      0  \n",
            "132          0       0         0         0       0      0  \n",
            "133          0       0         0         0       0      0  \n",
            "134          0       0         0         0       0      1  \n",
            "135          0       0         0         0       0      0  \n",
            "\n",
            "[5 rows x 146 columns]\n"
          ]
        }
      ]
    },
    {
      "cell_type": "markdown",
      "source": [
        "### Prepare input data for RNN"
      ],
      "metadata": {
        "id": "YSnsBiA4b3Gl"
      }
    },
    {
      "cell_type": "code",
      "source": [
        "df = pd.read_csv('/content/drive/My Drive/Data_sci/all_alphabetical_by_recipient.csv')\n",
        "\n",
        "categorical_cols = ['Recipient', 'Supplier', 'Weapon designation']\n",
        "encoder = OneHotEncoder(handle_unknown='ignore')\n",
        "encoded_data = encoder.fit_transform(df[categorical_cols])\n",
        "\n",
        "numeric_cols = ['Year of order', 'Number ordered', 'SIPRI TIV per unit', 'SIPRI TIV for total order', 'SIPRI TIV of delivered weapons']\n",
        "scaler = StandardScaler()\n",
        "scaled_data = scaler.fit_transform(df[numeric_cols])\n",
        "\n",
        "\n",
        "def extract_arms_trade_data(recipient, target_year):\n",
        "    data = df[(df['Recipient'] == recipient) & (df['Year of order'] >= target_year - 3) & (df['Year of order'] < target_year)]\n",
        "    if data.empty:\n",
        "      return None, None\n",
        "\n",
        "    encoded_data = encoder.transform(data[categorical_cols])\n",
        "    scaled_data = scaler.transform(data[numeric_cols])\n",
        "\n",
        "    input_data = np.concatenate((encoded_data.toarray(), scaled_data), axis=1)\n",
        "\n",
        "    year_rows = actor_crisis_matrix[actor_crisis_matrix['Year'] == target_year]\n",
        "    if year_rows[recipient].sum() == 0:\n",
        "        target = 0\n",
        "    else:\n",
        "        target = 1\n",
        "\n",
        "    return input_data, target\n",
        "\n",
        "\n"
      ],
      "metadata": {
        "colab": {
          "base_uri": "https://localhost:8080/"
        },
        "id": "KZl8nPs-8Ynd",
        "outputId": "ae769b39-fb35-4a2f-8837-e91e53610a91"
      },
      "execution_count": 4,
      "outputs": [
        {
          "output_type": "execute_result",
          "data": {
            "text/plain": [
              "(array([[ 0.        ,  1.        ,  0.        , ..., -0.25502206,\n",
              "         -0.27955698, -0.27606523],\n",
              "        [ 0.        ,  1.        ,  0.        , ..., -0.16847345,\n",
              "         -0.24720897, -0.24119009],\n",
              "        [ 0.        ,  1.        ,  0.        , ..., -0.26800436,\n",
              "         -0.27820288, -0.27460534],\n",
              "        [ 0.        ,  1.        ,  0.        , ..., -0.27124993,\n",
              "         -0.13436705, -0.11953263],\n",
              "        [ 0.        ,  1.        ,  0.        , ..., -0.26944683,\n",
              "         -0.2201269 , -0.2119923 ]]),\n",
              " 0)"
            ]
          },
          "metadata": {},
          "execution_count": 4
        }
      ]
    },
    {
      "cell_type": "markdown",
      "source": [
        "### Generate random samples of data for RNN"
      ],
      "metadata": {
        "id": "iAMOIBo1GN1R"
      }
    },
    {
      "cell_type": "code",
      "source": [
        "def generate_random_samples(actor_matrix, n, ratio):\n",
        "    random_samples = []\n",
        "\n",
        "    num_ones = int(n * ratio)\n",
        "    num_zeros = n - num_ones\n",
        "\n",
        "    one_indices = actor_matrix[actor_matrix == 1].stack().index.tolist()\n",
        "    zero_indices = actor_matrix[actor_matrix == 0].stack().index.tolist()\n",
        "\n",
        "    sampled_one_indices = random.sample(one_indices, num_ones)\n",
        "    sampled_zero_indices = random.sample(zero_indices, num_zeros)\n",
        "    sampled_indices = sampled_one_indices + sampled_zero_indices\n",
        "    random.shuffle(sampled_indices)\n",
        "\n",
        "    for idx, country in sampled_indices:\n",
        "        year = actor_matrix.loc[idx, 'Year']\n",
        "        input_data, target = extract_arms_trade_data(country, year)\n",
        "\n",
        "        if input_data is not None and target is not None:\n",
        "            input_data = torch.tensor(input_data, dtype=torch.float32)\n",
        "            target = torch.tensor(target, dtype=torch.float32)\n",
        "\n",
        "            if not torch.isnan(input_data).any() and not torch.isnan(target):\n",
        "                X_rnn = input_data\n",
        "                y_rnn = target\n",
        "\n",
        "                random_samples.append((X_rnn, y_rnn, country, year))\n",
        "\n",
        "    return random_samples\n",
        "\n",
        "n = 1000\n",
        "ratio = 0.5  # share of data that is 1s\n",
        "random_samples = generate_random_samples(actor_crisis_matrix, n, ratio)\n"
      ],
      "metadata": {
        "id": "aomfBMS1PA7C"
      },
      "execution_count": 139,
      "outputs": []
    },
    {
      "cell_type": "markdown",
      "source": [
        "### Define the RNN model"
      ],
      "metadata": {
        "id": "JxBcZCtgcBXC"
      }
    },
    {
      "cell_type": "code",
      "execution_count": 145,
      "metadata": {
        "id": "gkJnQpvBQvbu"
      },
      "outputs": [],
      "source": [
        "class RNNModel(nn.Module):\n",
        "    def __init__(self, input_size, hidden_size, output_size, num_layers=1):\n",
        "        super(RNNModel, self).__init__()\n",
        "        self.hidden_size = hidden_size\n",
        "        self.num_layers = num_layers\n",
        "        self.rnn = nn.RNN(input_size, hidden_size, num_layers, batch_first=True)\n",
        "        self.fc = nn.Linear(hidden_size, output_size)\n",
        "        self.sigmoid = nn.Sigmoid()\n",
        "\n",
        "    def forward(self, x):\n",
        "        h0 = torch.zeros(self.num_layers, x.size(0), self.hidden_size).to(x.device)\n",
        "        out, _ = self.rnn(x, h0)\n",
        "        out = self.fc(out[:, -1, :])\n",
        "        out = self.sigmoid(out)\n",
        "        return out\n",
        "\n",
        "input_size = random_samples[0][0].shape[1]\n",
        "output_size = 1\n",
        "hidden_size = 64\n",
        "num_layers = 1\n",
        "\n",
        "model = RNNModel(input_size, hidden_size, output_size, num_layers)\n",
        "\n",
        "criterion = nn.BCELoss()\n",
        "optimizer = torch.optim.Adam(model.parameters(), lr=0.001)\n"
      ]
    },
    {
      "cell_type": "markdown",
      "source": [
        "### Training, validation, and testing\n"
      ],
      "metadata": {
        "id": "F9-S4hygcErj"
      }
    },
    {
      "cell_type": "code",
      "source": [
        "num_epochs = 20\n",
        "train_size = int(0.8 * len(random_samples))\n",
        "val_size = int(0.1 * len(random_samples))\n",
        "test_size = len(random_samples) - train_size - val_size\n",
        "\n",
        "train_set, val_set, test_set = random_samples[:train_size], random_samples[train_size:train_size + val_size], random_samples[-test_size:]\n",
        "\n",
        "# Training loop\n",
        "for epoch in range(num_epochs):\n",
        "    model.train()  # Set model to training mode\n",
        "    running_loss = 0.0\n",
        "    correct_predictions = 0\n",
        "    total_samples = 0\n",
        "\n",
        "    for X_rnn, y_rnn, _, _ in train_set:\n",
        "        optimizer.zero_grad()\n",
        "        X_rnn = X_rnn.unsqueeze(0)\n",
        "        outputs = model(X_rnn)\n",
        "        predictions = (outputs.squeeze() > 0.5).float()\n",
        "        loss = criterion(outputs.squeeze(), y_rnn)\n",
        "        loss.backward()\n",
        "        optimizer.step()\n",
        "\n",
        "        running_loss += loss.item()\n",
        "        correct_predictions += (predictions == y_rnn).sum().item()\n",
        "        total_samples += 1\n",
        "\n",
        "    # Validation\n",
        "    model.eval()  # Set model to evaluation mode\n",
        "    val_loss = 0.0\n",
        "    val_correct_predictions = 0\n",
        "    val_total_samples = 0\n",
        "\n",
        "    with torch.no_grad():\n",
        "        for X_val, y_val, _, _ in val_set:\n",
        "            X_val = X_val.unsqueeze(0)\n",
        "            outputs_val = model(X_val)\n",
        "            predictions_val = (outputs_val.squeeze() > 0.5).float()\n",
        "            val_loss += criterion(outputs_val.squeeze(), y_val).item()\n",
        "            val_correct_predictions += (predictions_val == y_val).sum().item()\n",
        "            val_total_samples += 1\n",
        "\n",
        "    epoch_loss = running_loss / len(train_set)\n",
        "    val_accuracy = val_correct_predictions / val_total_samples\n",
        "\n",
        "    print(f'Epoch [{epoch+1}/{num_epochs}], Training Loss: {epoch_loss:.4f}, Validation Accuracy: {val_accuracy:.4f}')\n",
        "\n",
        "# Testing\n",
        "model.eval()  # Set model to evaluation mode\n",
        "test_correct_predictions = 0\n",
        "test_total_samples = 0\n",
        "\n",
        "with torch.no_grad():\n",
        "    for X_test, y_test, _, _ in test_set:\n",
        "        X_test = X_test.unsqueeze(0)\n",
        "        outputs_test = model(X_test)\n",
        "        predictions_test = (outputs_test.squeeze() > 0.5).float()\n",
        "        test_correct_predictions += (predictions_test == y_test).sum().item()\n",
        "        test_total_samples += 1\n",
        "\n",
        "test_accuracy = test_correct_predictions / test_total_samples\n",
        "print(f'Testing Accuracy: {test_accuracy:.4f}')"
      ],
      "metadata": {
        "id": "i5d_pcVJTxLy",
        "colab": {
          "base_uri": "https://localhost:8080/"
        },
        "outputId": "90ef9718-7848-4f39-d73a-ffa182d97ebf"
      },
      "execution_count": 146,
      "outputs": [
        {
          "output_type": "stream",
          "name": "stdout",
          "text": [
            "Epoch [1/20], Training Loss: 0.6780, Validation Accuracy: 0.6000\n",
            "Epoch [2/20], Training Loss: 0.5106, Validation Accuracy: 0.6143\n",
            "Epoch [3/20], Training Loss: 0.2869, Validation Accuracy: 0.5571\n",
            "Epoch [4/20], Training Loss: 0.1410, Validation Accuracy: 0.6286\n",
            "Epoch [5/20], Training Loss: 0.0869, Validation Accuracy: 0.5714\n",
            "Epoch [6/20], Training Loss: 0.0484, Validation Accuracy: 0.6429\n",
            "Epoch [7/20], Training Loss: 0.0507, Validation Accuracy: 0.6143\n",
            "Epoch [8/20], Training Loss: 0.0319, Validation Accuracy: 0.6429\n",
            "Epoch [9/20], Training Loss: 0.0283, Validation Accuracy: 0.6143\n",
            "Epoch [10/20], Training Loss: 0.0257, Validation Accuracy: 0.6429\n",
            "Epoch [11/20], Training Loss: 0.0241, Validation Accuracy: 0.6286\n",
            "Epoch [12/20], Training Loss: 0.0229, Validation Accuracy: 0.6429\n",
            "Epoch [13/20], Training Loss: 0.0222, Validation Accuracy: 0.6714\n",
            "Epoch [14/20], Training Loss: 0.0211, Validation Accuracy: 0.6143\n",
            "Epoch [15/20], Training Loss: 0.0196, Validation Accuracy: 0.6571\n",
            "Epoch [16/20], Training Loss: 0.0182, Validation Accuracy: 0.6714\n",
            "Epoch [17/20], Training Loss: 0.0172, Validation Accuracy: 0.6714\n",
            "Epoch [18/20], Training Loss: 0.0162, Validation Accuracy: 0.6429\n",
            "Epoch [19/20], Training Loss: 0.0156, Validation Accuracy: 0.6571\n",
            "Epoch [20/20], Training Loss: 0.0158, Validation Accuracy: 0.6714\n",
            "Testing Accuracy: 0.6111\n"
          ]
        }
      ]
    }
  ]
}